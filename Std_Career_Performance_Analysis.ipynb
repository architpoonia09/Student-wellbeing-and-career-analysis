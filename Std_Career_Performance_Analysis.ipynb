{
 "cells": [
  {
   "cell_type": "markdown",
   "id": "9fcea051",
   "metadata": {},
   "source": [
    "# Student Career Performance Analysis\n",
    "This notebook analyzes student career performance data using regression and classification models."
   ]
  },
  {
   "cell_type": "code",
   "execution_count": 1,
   "id": "46e0710c-e0c5-46fd-b69a-d2760ca61dd3",
   "metadata": {},
   "outputs": [],
   "source": [
    "import pandas as pd\n",
    "from sklearn.model_selection import train_test_split\n",
    "from sklearn.linear_model import LinearRegression, LogisticRegression\n",
    "from sklearn.metrics import mean_squared_error, mean_absolute_error, accuracy_score, confusion_matrix, precision_score, recall_score, f1_score, roc_auc_score, accuracy_score, r2_score\n",
    "import matplotlib.pyplot as plt\n",
    "import numpy as np\n",
    "import seaborn as sns"
   ]
  },
  {
   "cell_type": "markdown",
   "id": "5e3a9ef8",
   "metadata": {},
   "source": [
    "## Load Dataset\n",
    "Read the student career performance dataset and display basic info."
   ]
  },
  {
   "cell_type": "code",
   "execution_count": 2,
   "id": "4aedb59d-e012-4daf-9cb7-f95d8083f25b",
   "metadata": {},
   "outputs": [
    {
     "name": "stdout",
     "output_type": "stream",
     "text": [
      "<class 'pandas.core.frame.DataFrame'>\n",
      "RangeIndex: 5049 entries, 0 to 5048\n",
      "Data columns (total 8 columns):\n",
      " #   Column           Non-Null Count  Dtype  \n",
      "---  ------           --------------  -----  \n",
      " 0   Student_ID       5049 non-null   object \n",
      " 1   Hours_Study      4956 non-null   float64\n",
      " 2   Sleep_Hours      4960 non-null   float64\n",
      " 3   Internships      5049 non-null   int64  \n",
      " 4   Projects         5049 non-null   int64  \n",
      " 5   CGPA             4945 non-null   float64\n",
      " 6   Placement_Score  5049 non-null   float64\n",
      " 7   Placed           5049 non-null   int64  \n",
      "dtypes: float64(4), int64(3), object(1)\n",
      "memory usage: 315.7+ KB\n"
     ]
    }
   ],
   "source": [
    "df = pd.read_csv('student_career_performance.csv')\n",
    "df.info()"
   ]
  },
  {
   "cell_type": "markdown",
   "id": "da6429a2",
   "metadata": {},
   "source": [
    "## Handle Missing Values\n",
    "Fill missing values in key columns with their median."
   ]
  },
  {
   "cell_type": "code",
   "execution_count": 3,
   "id": "c8e1fd42-22bc-4518-b0fe-00362fb05b61",
   "metadata": {},
   "outputs": [
    {
     "name": "stdout",
     "output_type": "stream",
     "text": [
      "<class 'pandas.core.frame.DataFrame'>\n",
      "RangeIndex: 5049 entries, 0 to 5048\n",
      "Data columns (total 8 columns):\n",
      " #   Column           Non-Null Count  Dtype  \n",
      "---  ------           --------------  -----  \n",
      " 0   Student_ID       5049 non-null   object \n",
      " 1   Hours_Study      5049 non-null   float64\n",
      " 2   Sleep_Hours      5049 non-null   float64\n",
      " 3   Internships      5049 non-null   int64  \n",
      " 4   Projects         5049 non-null   int64  \n",
      " 5   CGPA             5049 non-null   float64\n",
      " 6   Placement_Score  5049 non-null   float64\n",
      " 7   Placed           5049 non-null   int64  \n",
      "dtypes: float64(4), int64(3), object(1)\n",
      "memory usage: 315.7+ KB\n"
     ]
    },
    {
     "name": "stderr",
     "output_type": "stream",
     "text": [
      "C:\\Users\\archi\\AppData\\Local\\Temp\\ipykernel_14664\\3485050254.py:4: FutureWarning: A value is trying to be set on a copy of a DataFrame or Series through chained assignment using an inplace method.\n",
      "The behavior will change in pandas 3.0. This inplace method will never work because the intermediate object on which we are setting values always behaves as a copy.\n",
      "\n",
      "For example, when doing 'df[col].method(value, inplace=True)', try using 'df.method({col: value}, inplace=True)' or df[col] = df[col].method(value) instead, to perform the operation inplace on the original object.\n",
      "\n",
      "\n",
      "  df[col].fillna(median_val, inplace =True)\n",
      "C:\\Users\\archi\\AppData\\Local\\Temp\\ipykernel_14664\\3485050254.py:4: FutureWarning: A value is trying to be set on a copy of a DataFrame or Series through chained assignment using an inplace method.\n",
      "The behavior will change in pandas 3.0. This inplace method will never work because the intermediate object on which we are setting values always behaves as a copy.\n",
      "\n",
      "For example, when doing 'df[col].method(value, inplace=True)', try using 'df.method({col: value}, inplace=True)' or df[col] = df[col].method(value) instead, to perform the operation inplace on the original object.\n",
      "\n",
      "\n",
      "  df[col].fillna(median_val, inplace =True)\n",
      "C:\\Users\\archi\\AppData\\Local\\Temp\\ipykernel_14664\\3485050254.py:4: FutureWarning: A value is trying to be set on a copy of a DataFrame or Series through chained assignment using an inplace method.\n",
      "The behavior will change in pandas 3.0. This inplace method will never work because the intermediate object on which we are setting values always behaves as a copy.\n",
      "\n",
      "For example, when doing 'df[col].method(value, inplace=True)', try using 'df.method({col: value}, inplace=True)' or df[col] = df[col].method(value) instead, to perform the operation inplace on the original object.\n",
      "\n",
      "\n",
      "  df[col].fillna(median_val, inplace =True)\n"
     ]
    }
   ],
   "source": [
    "for col in ['Hours_Study', 'Sleep_Hours', 'Internships', 'Projects', 'CGPA', 'Placement_Score', 'Placed']:\n",
    "    if df[col].isnull().any():\n",
    "        median_val = df[col].median()\n",
    "        df[col].fillna(median_val, inplace =True)\n",
    "df.info()"
   ]
  },
  {
   "cell_type": "markdown",
   "id": "0cf7b762",
   "metadata": {},
   "source": [
    "## Data Cleaning\n",
    "Remove outliers and invalid data entries."
   ]
  },
  {
   "cell_type": "code",
   "execution_count": 4,
   "id": "7bee5bf9",
   "metadata": {},
   "outputs": [
    {
     "data": {
      "text/html": [
       "<div>\n",
       "<style scoped>\n",
       "    .dataframe tbody tr th:only-of-type {\n",
       "        vertical-align: middle;\n",
       "    }\n",
       "\n",
       "    .dataframe tbody tr th {\n",
       "        vertical-align: top;\n",
       "    }\n",
       "\n",
       "    .dataframe thead th {\n",
       "        text-align: right;\n",
       "    }\n",
       "</style>\n",
       "<table border=\"1\" class=\"dataframe\">\n",
       "  <thead>\n",
       "    <tr style=\"text-align: right;\">\n",
       "      <th></th>\n",
       "      <th>Hours_Study</th>\n",
       "      <th>Sleep_Hours</th>\n",
       "      <th>Internships</th>\n",
       "      <th>Projects</th>\n",
       "      <th>CGPA</th>\n",
       "      <th>Placement_Score</th>\n",
       "      <th>Placed</th>\n",
       "      <th>Total_Hours</th>\n",
       "    </tr>\n",
       "  </thead>\n",
       "  <tbody>\n",
       "    <tr>\n",
       "      <th>count</th>\n",
       "      <td>4567.000000</td>\n",
       "      <td>4567.00000</td>\n",
       "      <td>4567.000000</td>\n",
       "      <td>4567.000000</td>\n",
       "      <td>4567.000000</td>\n",
       "      <td>4567.000000</td>\n",
       "      <td>4567.000000</td>\n",
       "      <td>4567.000000</td>\n",
       "    </tr>\n",
       "    <tr>\n",
       "      <th>mean</th>\n",
       "      <td>5.688132</td>\n",
       "      <td>7.18822</td>\n",
       "      <td>1.840815</td>\n",
       "      <td>3.155463</td>\n",
       "      <td>7.795769</td>\n",
       "      <td>99.667265</td>\n",
       "      <td>0.994745</td>\n",
       "      <td>12.876352</td>\n",
       "    </tr>\n",
       "    <tr>\n",
       "      <th>std</th>\n",
       "      <td>2.062637</td>\n",
       "      <td>1.20742</td>\n",
       "      <td>1.369628</td>\n",
       "      <td>1.755014</td>\n",
       "      <td>1.150138</td>\n",
       "      <td>2.382488</td>\n",
       "      <td>0.072309</td>\n",
       "      <td>2.385291</td>\n",
       "    </tr>\n",
       "    <tr>\n",
       "      <th>min</th>\n",
       "      <td>0.100000</td>\n",
       "      <td>2.50000</td>\n",
       "      <td>0.000000</td>\n",
       "      <td>0.000000</td>\n",
       "      <td>3.660000</td>\n",
       "      <td>51.900000</td>\n",
       "      <td>0.000000</td>\n",
       "      <td>4.300000</td>\n",
       "    </tr>\n",
       "    <tr>\n",
       "      <th>25%</th>\n",
       "      <td>4.400000</td>\n",
       "      <td>6.40000</td>\n",
       "      <td>1.000000</td>\n",
       "      <td>2.000000</td>\n",
       "      <td>7.010000</td>\n",
       "      <td>100.000000</td>\n",
       "      <td>1.000000</td>\n",
       "      <td>11.300000</td>\n",
       "    </tr>\n",
       "    <tr>\n",
       "      <th>50%</th>\n",
       "      <td>5.600000</td>\n",
       "      <td>7.20000</td>\n",
       "      <td>2.000000</td>\n",
       "      <td>3.000000</td>\n",
       "      <td>7.850000</td>\n",
       "      <td>100.000000</td>\n",
       "      <td>1.000000</td>\n",
       "      <td>12.800000</td>\n",
       "    </tr>\n",
       "    <tr>\n",
       "      <th>75%</th>\n",
       "      <td>6.800000</td>\n",
       "      <td>8.00000</td>\n",
       "      <td>3.000000</td>\n",
       "      <td>4.000000</td>\n",
       "      <td>8.610000</td>\n",
       "      <td>100.000000</td>\n",
       "      <td>1.000000</td>\n",
       "      <td>14.300000</td>\n",
       "    </tr>\n",
       "    <tr>\n",
       "      <th>max</th>\n",
       "      <td>17.200000</td>\n",
       "      <td>11.30000</td>\n",
       "      <td>8.000000</td>\n",
       "      <td>11.000000</td>\n",
       "      <td>10.000000</td>\n",
       "      <td>100.000000</td>\n",
       "      <td>1.000000</td>\n",
       "      <td>24.000000</td>\n",
       "    </tr>\n",
       "  </tbody>\n",
       "</table>\n",
       "</div>"
      ],
      "text/plain": [
       "       Hours_Study  Sleep_Hours  Internships     Projects         CGPA  \\\n",
       "count  4567.000000   4567.00000  4567.000000  4567.000000  4567.000000   \n",
       "mean      5.688132      7.18822     1.840815     3.155463     7.795769   \n",
       "std       2.062637      1.20742     1.369628     1.755014     1.150138   \n",
       "min       0.100000      2.50000     0.000000     0.000000     3.660000   \n",
       "25%       4.400000      6.40000     1.000000     2.000000     7.010000   \n",
       "50%       5.600000      7.20000     2.000000     3.000000     7.850000   \n",
       "75%       6.800000      8.00000     3.000000     4.000000     8.610000   \n",
       "max      17.200000     11.30000     8.000000    11.000000    10.000000   \n",
       "\n",
       "       Placement_Score       Placed  Total_Hours  \n",
       "count      4567.000000  4567.000000  4567.000000  \n",
       "mean         99.667265     0.994745    12.876352  \n",
       "std           2.382488     0.072309     2.385291  \n",
       "min          51.900000     0.000000     4.300000  \n",
       "25%         100.000000     1.000000    11.300000  \n",
       "50%         100.000000     1.000000    12.800000  \n",
       "75%         100.000000     1.000000    14.300000  \n",
       "max         100.000000     1.000000    24.000000  "
      ]
     },
     "execution_count": 4,
     "metadata": {},
     "output_type": "execute_result"
    }
   ],
   "source": [
    "df['Total_Hours']=df['Hours_Study'] + df['Sleep_Hours']\n",
    "df = df[df['Total_Hours'] <= 24]\n",
    "df = df[df['Hours_Study'] >= 0]\n",
    "df = df[df['CGPA'] <= 10]\n",
    "df = df[~((df['Placed'] == 0) & (df['Placement_Score'] ==100))]\n",
    "df.describe()"
   ]
  },
  {
   "cell_type": "markdown",
   "id": "ab5e16bd",
   "metadata": {},
   "source": [
    "## Prepare Features and Target for Classification\n",
    "Separate features and target variable for placement prediction."
   ]
  },
  {
   "cell_type": "code",
   "execution_count": 5,
   "id": "83982b08-9dc3-498d-97f2-04c9d73cf792",
   "metadata": {},
   "outputs": [],
   "source": [
    "y_target = df['Placed']\n",
    "X_features = df.drop(columns=['Placed', 'Student_ID', 'Total_Hours'])"
   ]
  },
  {
   "cell_type": "markdown",
   "id": "19f099e5",
   "metadata": {},
   "source": [
    "## Train-Test Split\n",
    "Split the data into training and testing sets."
   ]
  },
  {
   "cell_type": "code",
   "execution_count": 6,
   "id": "48bf0ea5-36e1-4231-9d88-f975da340492",
   "metadata": {},
   "outputs": [],
   "source": [
    "X_train, X_test, y_train, y_test = train_test_split(X_features, y_target, test_size=0.2, random_state=42)"
   ]
  },
  {
   "cell_type": "markdown",
   "id": "e35922e1",
   "metadata": {},
   "source": [
    "## Logistic Regression Model\n",
    "Train a logistic regression model to predict placement."
   ]
  },
  {
   "cell_type": "code",
   "execution_count": 7,
   "id": "49685aa9-78f1-4974-ac0a-6d4e50bffb90",
   "metadata": {},
   "outputs": [],
   "source": [
    "logistic_model = LogisticRegression(max_iter=100)\n",
    "logistic_model.fit(X_train, y_train)\n",
    "y_pred_logistic = logistic_model.predict(X_test)\n",
    "logistic_accuracy = accuracy_score(y_test, y_pred_logistic)"
   ]
  },
  {
   "cell_type": "markdown",
   "id": "f51316dd",
   "metadata": {},
   "source": [
    "## Classification Metrics\n",
    "Evaluate the logistic regression model using accuracy, precision, recall, F1 score, and ROC AUC."
   ]
  },
  {
   "cell_type": "code",
   "execution_count": 8,
   "id": "8fe0f9f0",
   "metadata": {},
   "outputs": [
    {
     "name": "stdout",
     "output_type": "stream",
     "text": [
      "Logistic Regression Test Accuracy: 0.9945\n",
      "Precision: 0.99\n",
      "Recall:    1.00\n",
      "F1 Score:  1.00\n",
      "ROC AUC:   0.95\n"
     ]
    }
   ],
   "source": [
    "\n",
    "print(f'Logistic Regression Test Accuracy: {logistic_accuracy:.4f}')\n",
    "print(f\"Precision: {precision_score(y_test, y_pred_logistic):.2f}\")\n",
    "print(f\"Recall:    {recall_score(y_test, y_pred_logistic):.2f}\")\n",
    "print(f\"F1 Score:  {f1_score(y_test, y_pred_logistic):.2f}\")\n",
    "print(f\"ROC AUC:   {roc_auc_score(y_test, logistic_model.predict_proba(X_test)[:,1]):.2f}\")"
   ]
  },
  {
   "cell_type": "markdown",
   "id": "546d5c66",
   "metadata": {},
   "source": [
    "## Confusion Matrix\n",
    "Visualize the confusion matrix for the logistic regression model."
   ]
  },
  {
   "cell_type": "code",
   "execution_count": 9,
   "id": "c781a2c9",
   "metadata": {},
   "outputs": [
    {
     "data": {
      "image/png": "[encoded data removed]",
      "text/plain": [
       "<Figure size 640x480 with 2 Axes>"
      ]
     },
     "metadata": {},
     "output_type": "display_data"
    }
   ],
   "source": [
    "cm = confusion_matrix(y_test, y_pred_logistic)\n",
    "sns.heatmap(cm, annot=True, fmt='d', cmap='Blues')\n",
    "plt.xlabel('Predicted')\n",
    "plt.ylabel('Actual')\n",
    "plt.title('Logistic Regression: Confusion Matrix')\n",
    "plt.show()"
   ]
  },
  {
   "cell_type": "markdown",
   "id": "85a865f0",
   "metadata": {},
   "source": [
    "## Data Summary\n",
    "Display summary statistics of the cleaned dataset."
   ]
  },
  {
   "cell_type": "code",
   "execution_count": 10,
   "id": "19ccc05b",
   "metadata": {},
   "outputs": [
    {
     "data": {
      "text/html": [
       "<div>\n",
       "<style scoped>\n",
       "    .dataframe tbody tr th:only-of-type {\n",
       "        vertical-align: middle;\n",
       "    }\n",
       "\n",
       "    .dataframe tbody tr th {\n",
       "        vertical-align: top;\n",
       "    }\n",
       "\n",
       "    .dataframe thead th {\n",
       "        text-align: right;\n",
       "    }\n",
       "</style>\n",
       "<table border=\"1\" class=\"dataframe\">\n",
       "  <thead>\n",
       "    <tr style=\"text-align: right;\">\n",
       "      <th></th>\n",
       "      <th>Hours_Study</th>\n",
       "      <th>Sleep_Hours</th>\n",
       "      <th>Internships</th>\n",
       "      <th>Projects</th>\n",
       "      <th>CGPA</th>\n",
       "      <th>Placement_Score</th>\n",
       "      <th>Placed</th>\n",
       "      <th>Total_Hours</th>\n",
       "    </tr>\n",
       "  </thead>\n",
       "  <tbody>\n",
       "    <tr>\n",
       "      <th>count</th>\n",
       "      <td>4567.000000</td>\n",
       "      <td>4567.00000</td>\n",
       "      <td>4567.000000</td>\n",
       "      <td>4567.000000</td>\n",
       "      <td>4567.000000</td>\n",
       "      <td>4567.000000</td>\n",
       "      <td>4567.000000</td>\n",
       "      <td>4567.000000</td>\n",
       "    </tr>\n",
       "    <tr>\n",
       "      <th>mean</th>\n",
       "      <td>5.688132</td>\n",
       "      <td>7.18822</td>\n",
       "      <td>1.840815</td>\n",
       "      <td>3.155463</td>\n",
       "      <td>7.795769</td>\n",
       "      <td>99.667265</td>\n",
       "      <td>0.994745</td>\n",
       "      <td>12.876352</td>\n",
       "    </tr>\n",
       "    <tr>\n",
       "      <th>std</th>\n",
       "      <td>2.062637</td>\n",
       "      <td>1.20742</td>\n",
       "      <td>1.369628</td>\n",
       "      <td>1.755014</td>\n",
       "      <td>1.150138</td>\n",
       "      <td>2.382488</td>\n",
       "      <td>0.072309</td>\n",
       "      <td>2.385291</td>\n",
       "    </tr>\n",
       "    <tr>\n",
       "      <th>min</th>\n",
       "      <td>0.100000</td>\n",
       "      <td>2.50000</td>\n",
       "      <td>0.000000</td>\n",
       "      <td>0.000000</td>\n",
       "      <td>3.660000</td>\n",
       "      <td>51.900000</td>\n",
       "      <td>0.000000</td>\n",
       "      <td>4.300000</td>\n",
       "    </tr>\n",
       "    <tr>\n",
       "      <th>25%</th>\n",
       "      <td>4.400000</td>\n",
       "      <td>6.40000</td>\n",
       "      <td>1.000000</td>\n",
       "      <td>2.000000</td>\n",
       "      <td>7.010000</td>\n",
       "      <td>100.000000</td>\n",
       "      <td>1.000000</td>\n",
       "      <td>11.300000</td>\n",
       "    </tr>\n",
       "    <tr>\n",
       "      <th>50%</th>\n",
       "      <td>5.600000</td>\n",
       "      <td>7.20000</td>\n",
       "      <td>2.000000</td>\n",
       "      <td>3.000000</td>\n",
       "      <td>7.850000</td>\n",
       "      <td>100.000000</td>\n",
       "      <td>1.000000</td>\n",
       "      <td>12.800000</td>\n",
       "    </tr>\n",
       "    <tr>\n",
       "      <th>75%</th>\n",
       "      <td>6.800000</td>\n",
       "      <td>8.00000</td>\n",
       "      <td>3.000000</td>\n",
       "      <td>4.000000</td>\n",
       "      <td>8.610000</td>\n",
       "      <td>100.000000</td>\n",
       "      <td>1.000000</td>\n",
       "      <td>14.300000</td>\n",
       "    </tr>\n",
       "    <tr>\n",
       "      <th>max</th>\n",
       "      <td>17.200000</td>\n",
       "      <td>11.30000</td>\n",
       "      <td>8.000000</td>\n",
       "      <td>11.000000</td>\n",
       "      <td>10.000000</td>\n",
       "      <td>100.000000</td>\n",
       "      <td>1.000000</td>\n",
       "      <td>24.000000</td>\n",
       "    </tr>\n",
       "  </tbody>\n",
       "</table>\n",
       "</div>"
      ],
      "text/plain": [
       "       Hours_Study  Sleep_Hours  Internships     Projects         CGPA  \\\n",
       "count  4567.000000   4567.00000  4567.000000  4567.000000  4567.000000   \n",
       "mean      5.688132      7.18822     1.840815     3.155463     7.795769   \n",
       "std       2.062637      1.20742     1.369628     1.755014     1.150138   \n",
       "min       0.100000      2.50000     0.000000     0.000000     3.660000   \n",
       "25%       4.400000      6.40000     1.000000     2.000000     7.010000   \n",
       "50%       5.600000      7.20000     2.000000     3.000000     7.850000   \n",
       "75%       6.800000      8.00000     3.000000     4.000000     8.610000   \n",
       "max      17.200000     11.30000     8.000000    11.000000    10.000000   \n",
       "\n",
       "       Placement_Score       Placed  Total_Hours  \n",
       "count      4567.000000  4567.000000  4567.000000  \n",
       "mean         99.667265     0.994745    12.876352  \n",
       "std           2.382488     0.072309     2.385291  \n",
       "min          51.900000     0.000000     4.300000  \n",
       "25%         100.000000     1.000000    11.300000  \n",
       "50%         100.000000     1.000000    12.800000  \n",
       "75%         100.000000     1.000000    14.300000  \n",
       "max         100.000000     1.000000    24.000000  "
      ]
     },
     "execution_count": 10,
     "metadata": {},
     "output_type": "execute_result"
    }
   ],
   "source": [
    "df.describe()   "
   ]
  },
  {
   "cell_type": "markdown",
   "id": "5fa902bc",
   "metadata": {},
   "source": [
    "## Prepare Features and Target for Regression\n",
    "Separate features and target variable for placement score prediction."
   ]
  },
  {
   "cell_type": "code",
   "execution_count": 11,
   "id": "67de0566",
   "metadata": {},
   "outputs": [],
   "source": [
    "y1_target = df['Placement_Score']\n",
    "X1_features = df.drop(columns=['Placement_Score', 'Student_ID', 'Placed', 'Total_Hours'])"
   ]
  },
  {
   "cell_type": "markdown",
   "id": "31289821",
   "metadata": {},
   "source": [
    "## Train-Test Split for Regression\n",
    "Split the data for regression analysis."
   ]
  },
  {
   "cell_type": "code",
   "execution_count": 12,
   "id": "cf060fee",
   "metadata": {},
   "outputs": [],
   "source": [
    "X1_train, X1_test, y1_train, y1_test = train_test_split(X1_features, y1_target, test_size=0.2, random_state=42)"
   ]
  },
  {
   "cell_type": "markdown",
   "id": "10e2bcfb",
   "metadata": {},
   "source": [
    "## Linear Regression Model\n",
    "Train a linear regression model to predict placement scores."
   ]
  },
  {
   "cell_type": "code",
   "execution_count": 13,
   "id": "3d7d2c9c",
   "metadata": {},
   "outputs": [
    {
     "name": "stdout",
     "output_type": "stream",
     "text": [
      "Mean Absolute Error: 0.7631\n",
      "Mean Squared Error: 4.8245\n",
      "Root Mean Squared Error:  2.19646950005447\n",
      "R2 Score is not a valid metric here becuse the variance is very less and the data is highly imbalanced\n"
     ]
    }
   ],
   "source": [
    "Linear_model = LinearRegression()\n",
    "Linear_model.fit(X1_train, y1_train)\n",
    "y1_pred_Linear = Linear_model.predict(X1_test)\n",
    "print(f\"Mean Absolute Error: {mean_absolute_error(y1_test, y1_pred_Linear):.4f}\")\n",
    "print(f\"Mean Squared Error: {mean_squared_error(y1_test, y1_pred_Linear):.4f}\")\n",
    "rmse = np.sqrt(mean_squared_error(y1_test, y1_pred_Linear))\n",
    "print(f\"Root Mean Squared Error: \", rmse)\n",
    "print(f\"R2 Score is not a valid metric here becuse the variance is very less and the data is highly imbalanced\")"
   ]
  },
  {
   "cell_type": "markdown",
   "id": "cd7de0a8",
   "metadata": {},
   "source": [
    "## Regression Results Visualization\n",
    "Plot actual vs. predicted placement scores."
   ]
  },
  {
   "cell_type": "code",
   "execution_count": 14,
   "id": "bffaa026",
   "metadata": {},
   "outputs": [
    {
     "data": {
      "image/png": "[encoded data removed]",
      "text/plain": [
       "<Figure size 640x480 with 1 Axes>"
      ]
     },
     "metadata": {},
     "output_type": "display_data"
    }
   ],
   "source": [
    "plt.scatter(y1_test, y1_pred_Linear)\n",
    "plt.xlabel(\"Actual Scores\")\n",
    "plt.ylabel(\"Predicted Scores\")\n",
    "plt.title(\"Linear Regression: Actual vs. Predicted Scores\")\n",
    "plt.show()"
   ]
  },
  {
   "cell_type": "markdown",
   "id": "23e794bf",
   "metadata": {},
   "source": [
    "# Comparison: Linear vs Logistic Regression\n",
    "\n",
    "| Aspect | **Logistic Regression** | **Linear Regression** |\n",
    "|-------|----------------------|---------------------|\n",
    "| **Goal** | Classification – predicts whether a student is **placed (1) or not placed (0)**. | Regression – predicts a continuous score (**Placement_Score**). |\n",
    "| **Performance** | **Accuracy: 99.45%**, Precision: 0.99, Recall: 1.00 → Excellent at identifying placed students. | **RMSE: 2.19**, MAE: 0.76 → Low error, but score distribution is very narrow (most students have ~100). |\n",
    "| **Interpretability** | Provides probability of being placed, useful for decision-making and risk assessment. | Useful for estimating relative placement performance but less meaningful when scores are nearly constant. |\n",
    "| **Best Use Case** | Determining if a student is likely to be placed – highly reliable here. | Predicting fine-grained placement scores if score variance is higher. |\n",
    "\n",
    "**Conclusion:** Logistic Regression is more effective here because the key outcome is **binary placement status**, and the model achieves near-perfect classification. Linear regression offers little additional insight due to low score variance.\n",
    "\n",
    "---\n",
    "\n",
    "# Key Insights on Student Performance & Placement Readiness\n",
    "\n",
    "1. **Study Hours Have a Strong Impact on Placement**  \n",
    "   Students with **more study hours** are significantly more likely to be placed. Median study hours for placed students is higher than for those not placed, indicating that study time is a key predictor.\n",
    "\n",
    "2. **CGPA Plays a Significant Role**  \n",
    "   CGPA is a strong predictor. Most placed students have CGPA **above 7.0**, and very few below 6.5 are placed.\n",
    "\n",
    "3. **Experience Matters (Internships + Projects)**  \n",
    "   Students with **≥2 internships and ≥3 projects** show the highest placement probability. Those with 0 internships are slightly less likely to be placed even with good CGPA.\n",
    "```\n"
   ]
  }
 ],
 "metadata": {
  "kernelspec": {
   "display_name": ".venv",
   "language": "python",
   "name": "python3"
  },
  "language_info": {
   "codemirror_mode": {
    "name": "ipython",
    "version": 3
   },
   "file_extension": ".py",
   "mimetype": "text/x-python",
   "name": "python",
   "nbconvert_exporter": "python",
   "pygments_lexer": "ipython3",
   "version": "3.13.7"
  }
 },
 "nbformat": 4,
 "nbformat_minor": 5
}
